{
 "cells": [
  {
   "cell_type": "markdown",
   "metadata": {},
   "source": [
    "# 人工智能在现实生活中的体现\n",
    "- AlphaGo\n",
    "- 机器狗\n",
    "- 无人驾驶汽车"
   ]
  },
  {
   "cell_type": "markdown",
   "metadata": {},
   "source": [
    "# Numpy 数组\n",
    "ndarray.ndim: 数组中的维数，二维数组（矩阵）\n",
    "\n",
    "ndarray.shape: 数组的维度。例如二位数组中，表示数组的“行数”和“列数”\n",
    "\n",
    "ndarray.size: 数组元素的总个数，等于shape属性中元组元素的乘积\n",
    "\n",
    "ndarray.dtype: 表示数组中元素类型的对象，可使用标准的Python类型创建或指定dtype，也可以使用Numpy提供的数据类型"
   ]
  },
  {
   "cell_type": "markdown",
   "metadata": {},
   "source": [
    "# 深度学习简介\n",
    "\n",
    "## 神经网络\n",
    "神经网络是一种由于受到生物神经细胞结构的启发而研究出的一种算法体系。\n",
    "\n",
    "- 输入层：Input Layer\n",
    "- 隐藏层：Hidden Layer\n",
    "- 输出层：Output Layer"
   ]
  },
  {
   "cell_type": "markdown",
   "metadata": {},
   "source": [
    "## 神经元\n",
    "一个简单的神经元\n",
    "- 由两部分组成：线性模型 激励函数\n",
    "- 线性模型：${{f}\\left( x \\right)=x+1}$\n",
    "\n",
    "![神经元](images/Ncell.png)\n",
    "\n",
    "多个输入：\n",
    "\n",
    "n个输入项的神经元：${{f}\\left(x\\right)}$\n",
    "\n",
    "展开项：${{f}\\left({x}_{1}, {x}_{2}, ..., {x}_{n}\\right)}$\n",
    "\n",
    "输出值：output\n",
    "\n",
    "也就是：${output={f}\\left(x\\right)}$\n",
    "\n",
    "写作：${{f}\\left( x \\right)=wx+b}$\n",
    "\n",
    "x：${n*1}$\n",
    "\n",
    "w：${1*n}$\n",
    "\n",
    "b：偏置项\n"
   ]
  },
  {
   "cell_type": "markdown",
   "metadata": {},
   "source": [
    "## Loss 函数\n",
    "\n",
    "## 激励函数\n",
    "激励函数（Activation Function），跟随在${{f}\\left( x \\right)=x+1}$函数之后用来加入一个非线性的因数\n",
    "- Sigmoid 函数\n",
    "- Tanh 函数\n",
    "- Relu 函数"
   ]
  },
  {
   "cell_type": "markdown",
   "metadata": {},
   "source": [
    "## 深度神经网络（DNN）\n",
    "所谓的深度学习实际指的是给予 Deep Neural Networks 的学习，也就是深度人工神经网络所进行的学习过程，也称作Deep Learning。这个 Deep 是指的神经网络的深度"
   ]
  },
  {
   "cell_type": "markdown",
   "metadata": {},
   "source": [
    "## 深度学习为什么强\n",
    "### 不用再提取特征\n",
    "- “朴素贝叶斯”，“决策树”，“支持向量机”，提取特征是一个非常重要的前置工作\n",
    "- 神经网络由于巨量的线性分类器的堆叠，以及卷积的使用，对噪声忍耐能力，对于多通道数据上投射出来的不同特征偏向的敏感程度会自动减小或者忽略\n",
    "- 处理线性不可分"
   ]
  },
  {
   "cell_type": "code",
   "execution_count": null,
   "metadata": {},
   "outputs": [],
   "source": []
  }
 ],
 "metadata": {
  "kernelspec": {
   "display_name": "Python 3",
   "language": "python",
   "name": "python3"
  },
  "language_info": {
   "codemirror_mode": {
    "name": "ipython",
    "version": 3
   },
   "file_extension": ".py",
   "mimetype": "text/x-python",
   "name": "python",
   "nbconvert_exporter": "python",
   "pygments_lexer": "ipython3",
   "version": "3.7.3"
  }
 },
 "nbformat": 4,
 "nbformat_minor": 2
}
